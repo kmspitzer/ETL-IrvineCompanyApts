{
 "cells": [
  {
   "cell_type": "markdown",
   "metadata": {},
   "source": [
    "# ETL Project\n",
    "## Irvine Company Apartments\n"
   ]
  },
  {
   "cell_type": "code",
   "execution_count": 1,
   "metadata": {},
   "outputs": [],
   "source": [
    "# set environment\n",
    "from bs4 import BeautifulSoup\n",
    "import pandas as pd\n",
    "from splinter import Browser\n",
    "from webdriver_manager.chrome import ChromeDriverManager"
   ]
  },
  {
   "cell_type": "code",
   "execution_count": 2,
   "metadata": {},
   "outputs": [
    {
     "name": "stderr",
     "output_type": "stream",
     "text": [
      "[WDM] - ====== WebDriver manager ======\n",
      "[WDM] - Current google-chrome version is 88.0.4324\n",
      "[WDM] - Get LATEST driver version for 88.0.4324\n"
     ]
    },
    {
     "name": "stdout",
     "output_type": "stream",
     "text": [
      "\n",
      "\n"
     ]
    },
    {
     "name": "stderr",
     "output_type": "stream",
     "text": [
      "[WDM] - Get LATEST driver version for 88.0.4324\n",
      "[WDM] - Trying to download new driver from https://chromedriver.storage.googleapis.com/88.0.4324.96/chromedriver_win32.zip\n",
      "[WDM] - Driver has been saved in cache [C:\\Users\\kate_\\.wdm\\drivers\\chromedriver\\win32\\88.0.4324.96]\n"
     ]
    }
   ],
   "source": [
    "# Setup splinter\n",
    "executable_path = {'executable_path': ChromeDriverManager().install()}\n",
    "browser = Browser('chrome', **executable_path, headless=False)"
   ]
  },
  {
   "cell_type": "code",
   "execution_count": 3,
   "metadata": {},
   "outputs": [],
   "source": [
    "base_url = \"https://www.irvinecompanyapartments.com/locations\""
   ]
  },
  {
   "cell_type": "code",
   "execution_count": 4,
   "metadata": {},
   "outputs": [],
   "source": [
    "browser.visit(base_url)\n",
    "html = browser.html\n",
    "soup = BeautifulSoup(html, \"html.parser\")"
   ]
  },
  {
   "cell_type": "code",
   "execution_count": 5,
   "metadata": {},
   "outputs": [
    {
     "name": "stdout",
     "output_type": "stream",
     "text": [
      "/locations/orange-county/aliso-viejo.html\n",
      "/locations/orange-county/costa-mesa.html\n",
      "/locations/orange-county/irvine.html\n",
      "/locations/orange-county/mission-viejo.html\n",
      "/locations/orange-county/newport-beach.html\n",
      "/locations/orange-county/orange.html\n",
      "/locations/orange-county/rancho-santa-margarita.html\n",
      "/locations/orange-county/tustin.html\n",
      "/locations/san-diego/carlsbad.html\n",
      "/locations/san-diego/carmel-valley.html\n",
      "/locations/san-diego/downtown.html\n",
      "/locations/san-diego/la-jolla.html\n",
      "/locations/san-diego/mission-valley.html\n",
      "/locations/los-angeles/playa-vista.html\n",
      "/locations/los-angeles/santa-monica.html\n",
      "/locations/northern-california/cupertino.html\n",
      "/locations/northern-california/redwood-city.html\n",
      "/locations/northern-california/san-jose.html\n",
      "/locations/northern-california/santa-clara.html\n",
      "/locations/northern-california/sunnyvale.html\n"
     ]
    }
   ],
   "source": [
    "\n",
    "location_soup = soup.find_all(\"li\", class_= \"submarket-listing-item__sub-market-list__item\")\n",
    "for loc in location_soup:\n",
    "    city_link = loc.find(\"a\", class_=\"link\")[\"href\"]\n",
    "    print(city_link)"
   ]
  },
  {
   "cell_type": "code",
   "execution_count": 6,
   "metadata": {},
   "outputs": [],
   "source": [
    "base_url = \"https://www.irvinecompanyapartments.com/locations/orange-county/aliso-viejo.html\"\n",
    "browser.visit(base_url)\n",
    "html = browser.html\n",
    "soup = BeautifulSoup(html, \"html.parser\")"
   ]
  },
  {
   "cell_type": "code",
   "execution_count": 24,
   "metadata": {},
   "outputs": [
    {
     "name": "stdout",
     "output_type": "stream",
     "text": [
      "None\n",
      "<a class=\"search-result-item-card__cta search-result-item-card__cta--link btn btn-circular-with-icon\" href=\"https://www.irvinecompanyapartments.com/locations/orange-county/aliso-viejo/vista-bella.html\" updated-url=\"https://www.irvinecompanyapartments.com/locations/orange-county/aliso-viejo/vista-bella.html\"><span class=\"apts-icon apts-icon-right-arrow\"></span></a>\n",
      "<a class=\"search-result-item-card__cta search-result-item-card__cta--link btn btn-circular-with-icon\" href=\"https://www.irvinecompanyapartments.com/locations/orange-county/aliso-viejo/aliso-town-center.html\" updated-url=\"https://www.irvinecompanyapartments.com/locations/orange-county/aliso-viejo/aliso-town-center.html\"><span class=\"apts-icon apts-icon-right-arrow\"></span></a>\n"
     ]
    }
   ],
   "source": [
    "complex_soup = soup.find_all(\"div\", class_=\"search-result-item-card__cta-container--bottom\")\n",
    "for loc in complex_soup:\n",
    "    print(loc.find(\"a\", href=True))"
   ]
  },
  {
   "cell_type": "code",
   "execution_count": null,
   "metadata": {},
   "outputs": [],
   "source": []
  },
  {
   "cell_type": "code",
   "execution_count": null,
   "metadata": {},
   "outputs": [],
   "source": []
  },
  {
   "cell_type": "code",
   "execution_count": null,
   "metadata": {},
   "outputs": [],
   "source": []
  },
  {
   "cell_type": "code",
   "execution_count": null,
   "metadata": {},
   "outputs": [],
   "source": []
  },
  {
   "cell_type": "code",
   "execution_count": null,
   "metadata": {},
   "outputs": [],
   "source": []
  },
  {
   "cell_type": "code",
   "execution_count": 28,
   "metadata": {},
   "outputs": [],
   "source": [
    "# build URL for scraping\n",
    "complex_avail_url = \"https://www.irvinecompanyapartments.com/locations/orange-county/irvine/spectrum/promenade-at-spectrum/availability.html#floor-plan-list\""
   ]
  },
  {
   "cell_type": "code",
   "execution_count": 29,
   "metadata": {},
   "outputs": [],
   "source": [
    "browser.visit(complex_avail_url)\n",
    "html = browser.html\n",
    "soup = BeautifulSoup(html, \"html.parser\")"
   ]
  },
  {
   "cell_type": "code",
   "execution_count": 30,
   "metadata": {},
   "outputs": [
    {
     "name": "stdout",
     "output_type": "stream",
     "text": [
      "Promenade at Irvine Spectrum\n"
     ]
    }
   ],
   "source": [
    "parse_soup = soup\n",
    "complex_soup = parse_soup.find_all(\"h1\", class_=\"sticky-header__title-heading\")\n",
    "\n",
    "complex_name = complex_soup[0].text\n",
    "print(complex_name)"
   ]
  },
  {
   "cell_type": "code",
   "execution_count": 31,
   "metadata": {
    "scrolled": false
   },
   "outputs": [
    {
     "name": "stdout",
     "output_type": "stream",
     "text": [
      "[{'plan_name': 'PLAN 1', 'unit_type': 'Studio / 1 Bath', 'start_price': ' $1,935', 'sq_ft': '681 ', 'unit_id': '05 5114', 'terms': '14 mo.', 'curr_price': '$1,980', 'avail_date': 'Today'}, {'plan_name': 'PLAN 1', 'unit_type': 'Studio / 1 Bath', 'start_price': ' $1,935', 'sq_ft': '681 ', 'unit_id': '05 5114', 'terms': '14 mo.', 'curr_price': '$1,980', 'avail_date': 'Today'}, {'plan_name': 'PLAN 1', 'unit_type': 'Studio / 1 Bath', 'start_price': ' $1,935', 'sq_ft': '681 ', 'unit_id': '05 5114', 'terms': '14 mo.', 'curr_price': '$1,980', 'avail_date': 'Today'}, {'plan_name': 'PLAN 1', 'unit_type': 'Studio / 1 Bath', 'start_price': ' $1,935', 'sq_ft': '681 ', 'unit_id': '05 5114', 'terms': '14 mo.', 'curr_price': '$1,980', 'avail_date': 'Today'}, {'plan_name': 'PLAN 1', 'unit_type': 'Studio / 1 Bath', 'start_price': ' $1,935', 'sq_ft': '681 ', 'unit_id': '05 5114', 'terms': '14 mo.', 'curr_price': '$1,980', 'avail_date': 'Today'}, {'plan_name': 'PLAN 3', 'unit_type': '1 Bed / 1 Bath', 'start_price': ' $2,340', 'sq_ft': '764 ', 'unit_id': '04 4123', 'terms': '14 mo.', 'curr_price': '$2,420', 'avail_date': 'Today'}, {'plan_name': 'PLAN 3', 'unit_type': '1 Bed / 1 Bath', 'start_price': ' $2,340', 'sq_ft': '764 ', 'unit_id': '04 4123', 'terms': '14 mo.', 'curr_price': '$2,420', 'avail_date': 'Today'}, {'plan_name': 'PLAN 3', 'unit_type': '1 Bed / 1 Bath', 'start_price': ' $2,340', 'sq_ft': '764 ', 'unit_id': '04 4123', 'terms': '14 mo.', 'curr_price': '$2,420', 'avail_date': 'Today'}, {'plan_name': 'PLAN 3', 'unit_type': '1 Bed / 1 Bath', 'start_price': ' $2,340', 'sq_ft': '764 ', 'unit_id': '04 4123', 'terms': '14 mo.', 'curr_price': '$2,420', 'avail_date': 'Today'}, {'plan_name': 'PLAN 3', 'unit_type': '1 Bed / 1 Bath', 'start_price': ' $2,340', 'sq_ft': '764 ', 'unit_id': '04 4123', 'terms': '14 mo.', 'curr_price': '$2,420', 'avail_date': 'Today'}, {'plan_name': 'PLAN 4', 'unit_type': '1 Bed / 1 Bath', 'start_price': ' $2,300', 'sq_ft': '744 ', 'unit_id': '05 5115', 'terms': '14 mo.', 'curr_price': '$2,300', 'avail_date': 'Today'}, {'plan_name': 'PLAN 4', 'unit_type': '1 Bed / 1 Bath', 'start_price': ' $2,300', 'sq_ft': '744 ', 'unit_id': '05 5115', 'terms': '14 mo.', 'curr_price': '$2,300', 'avail_date': 'Today'}, {'plan_name': 'PLAN 4', 'unit_type': '1 Bed / 1 Bath', 'start_price': ' $2,300', 'sq_ft': '744 ', 'unit_id': '05 5115', 'terms': '14 mo.', 'curr_price': '$2,300', 'avail_date': 'Today'}, {'plan_name': 'PLAN 4', 'unit_type': '1 Bed / 1 Bath', 'start_price': ' $2,300', 'sq_ft': '744 ', 'unit_id': '05 5115', 'terms': '14 mo.', 'curr_price': '$2,300', 'avail_date': 'Today'}, {'plan_name': 'PLAN 4', 'unit_type': '1 Bed / 1 Bath', 'start_price': ' $2,300', 'sq_ft': '744 ', 'unit_id': '05 5115', 'terms': '14 mo.', 'curr_price': '$2,300', 'avail_date': 'Today'}, {'plan_name': 'PLAN 5', 'unit_type': '1 Bed / 1 Bath', 'start_price': ' $2,345', 'sq_ft': '843 ', 'unit_id': '05 5140', 'terms': '14 mo.', 'curr_price': '$2,445', 'avail_date': 'Today'}, {'plan_name': 'PLAN 5', 'unit_type': '1 Bed / 1 Bath', 'start_price': ' $2,345', 'sq_ft': '843 ', 'unit_id': '05 5140', 'terms': '14 mo.', 'curr_price': '$2,445', 'avail_date': 'Today'}, {'plan_name': 'PLAN 5', 'unit_type': '1 Bed / 1 Bath', 'start_price': ' $2,345', 'sq_ft': '843 ', 'unit_id': '05 5140', 'terms': '14 mo.', 'curr_price': '$2,445', 'avail_date': 'Today'}, {'plan_name': 'PLAN 5', 'unit_type': '1 Bed / 1 Bath', 'start_price': ' $2,345', 'sq_ft': '843 ', 'unit_id': '05 5140', 'terms': '14 mo.', 'curr_price': '$2,445', 'avail_date': 'Today'}, {'plan_name': 'PLAN 5', 'unit_type': '1 Bed / 1 Bath', 'start_price': ' $2,345', 'sq_ft': '843 ', 'unit_id': '05 5140', 'terms': '14 mo.', 'curr_price': '$2,445', 'avail_date': 'Today'}, {'plan_name': 'PLAN 6', 'unit_type': '1 Bed / 1 Bath', 'start_price': ' $2,600', 'sq_ft': '835 ', 'unit_id': '05 5330', 'terms': '14 mo.', 'curr_price': '$2,635', 'avail_date': 'Today'}, {'plan_name': 'PLAN 6', 'unit_type': '1 Bed / 1 Bath', 'start_price': ' $2,600', 'sq_ft': '835 ', 'unit_id': '05 5330', 'terms': '14 mo.', 'curr_price': '$2,635', 'avail_date': 'Today'}, {'plan_name': 'PLAN 6', 'unit_type': '1 Bed / 1 Bath', 'start_price': ' $2,600', 'sq_ft': '835 ', 'unit_id': '05 5330', 'terms': '14 mo.', 'curr_price': '$2,635', 'avail_date': 'Today'}, {'plan_name': 'PLAN 7', 'unit_type': '1 Bed / 1 Bath', 'start_price': ' $2,625', 'sq_ft': '730 ', 'unit_id': '05 5311', 'terms': '14 mo.', 'curr_price': '$2,660', 'avail_date': 'Today'}, {'plan_name': 'PLAN 7', 'unit_type': '1 Bed / 1 Bath', 'start_price': ' $2,625', 'sq_ft': '730 ', 'unit_id': '05 5311', 'terms': '14 mo.', 'curr_price': '$2,660', 'avail_date': 'Today'}, {'plan_name': 'PLAN 7', 'unit_type': '1 Bed / 1 Bath', 'start_price': ' $2,625', 'sq_ft': '730 ', 'unit_id': '05 5311', 'terms': '14 mo.', 'curr_price': '$2,660', 'avail_date': 'Today'}, {'plan_name': 'PLAN 7', 'unit_type': '1 Bed / 1 Bath', 'start_price': ' $2,625', 'sq_ft': '730 ', 'unit_id': '05 5311', 'terms': '14 mo.', 'curr_price': '$2,660', 'avail_date': 'Today'}, {'plan_name': 'PLAN 7', 'unit_type': '1 Bed / 1 Bath', 'start_price': ' $2,625', 'sq_ft': '730 ', 'unit_id': '05 5311', 'terms': '14 mo.', 'curr_price': '$2,660', 'avail_date': 'Today'}, {'plan_name': 'PLAN 9', 'unit_type': 'Loft / 1 Bed / 1 Bath', 'start_price': ' $3,215', 'sq_ft': '993 ', 'unit_id': '05 5331', 'terms': '14 mo.', 'curr_price': '$3,215', 'avail_date': 'Today'}, {'plan_name': 'PLAN 10', 'unit_type': '1 Bed / 1 Bath', 'start_price': ' $2,580', 'sq_ft': '842 ', 'unit_id': '04 4102', 'terms': '14 mo.', 'curr_price': '$2,580', 'avail_date': 'Today'}, {'plan_name': 'PLAN 10', 'unit_type': '1 Bed / 1 Bath', 'start_price': ' $2,580', 'sq_ft': '842 ', 'unit_id': '04 4102', 'terms': '14 mo.', 'curr_price': '$2,580', 'avail_date': 'Today'}, {'plan_name': 'PLAN 11', 'unit_type': '1 Bed / 1 Bath', 'start_price': ' $2,890', 'sq_ft': '1,038 ', 'unit_id': '05 5104', 'terms': '14 mo.', 'curr_price': '$2,890', 'avail_date': 'Today'}, {'plan_name': 'PLAN 12', 'unit_type': '1 Bed / 1 Bath', 'start_price': ' $2,300', 'sq_ft': '746 ', 'unit_id': '03 3139', 'terms': '14 mo.', 'curr_price': '$2,300', 'avail_date': 'Today'}, {'plan_name': 'PLAN 12', 'unit_type': '1 Bed / 1 Bath', 'start_price': ' $2,300', 'sq_ft': '746 ', 'unit_id': '03 3139', 'terms': '14 mo.', 'curr_price': '$2,300', 'avail_date': 'Today'}, {'plan_name': 'PLAN 12', 'unit_type': '1 Bed / 1 Bath', 'start_price': ' $2,300', 'sq_ft': '746 ', 'unit_id': '03 3139', 'terms': '14 mo.', 'curr_price': '$2,300', 'avail_date': 'Today'}, {'plan_name': 'PLAN 12', 'unit_type': '1 Bed / 1 Bath', 'start_price': ' $2,300', 'sq_ft': '746 ', 'unit_id': '03 3139', 'terms': '14 mo.', 'curr_price': '$2,300', 'avail_date': 'Today'}, {'plan_name': 'PLAN 12', 'unit_type': '1 Bed / 1 Bath', 'start_price': ' $2,300', 'sq_ft': '746 ', 'unit_id': '03 3139', 'terms': '14 mo.', 'curr_price': '$2,300', 'avail_date': 'Today'}, {'plan_name': 'PLAN 13', 'unit_type': '1 Bed / 1 Bath', 'start_price': ' $2,690', 'sq_ft': '948 ', 'unit_id': '05 5413', 'terms': '14 mo.', 'curr_price': '$2,725', 'avail_date': 'Today'}, {'plan_name': 'PLAN 13', 'unit_type': '1 Bed / 1 Bath', 'start_price': ' $2,690', 'sq_ft': '948 ', 'unit_id': '05 5413', 'terms': '14 mo.', 'curr_price': '$2,725', 'avail_date': 'Today'}, {'plan_name': 'PLAN 14', 'unit_type': '1 Bed / 1 Bath', 'start_price': ' $2,560', 'sq_ft': '789 ', 'unit_id': '01 1321', 'terms': '14 mo.', 'curr_price': '$2,620', 'avail_date': 'Today'}, {'plan_name': 'PLAN 14', 'unit_type': '1 Bed / 1 Bath', 'start_price': ' $2,560', 'sq_ft': '789 ', 'unit_id': '01 1321', 'terms': '14 mo.', 'curr_price': '$2,620', 'avail_date': 'Today'}, {'plan_name': 'PLAN 14', 'unit_type': '1 Bed / 1 Bath', 'start_price': ' $2,560', 'sq_ft': '789 ', 'unit_id': '01 1321', 'terms': '14 mo.', 'curr_price': '$2,620', 'avail_date': 'Today'}, {'plan_name': 'PLAN 15', 'unit_type': 'Den / 1 Bed / 1 Bath', 'start_price': ' $2,540', 'sq_ft': '830 ', 'unit_id': '04 4117', 'terms': '14 mo.', 'curr_price': '$2,540', 'avail_date': 'Today'}, {'plan_name': 'PLAN 15', 'unit_type': 'Den / 1 Bed / 1 Bath', 'start_price': ' $2,540', 'sq_ft': '830 ', 'unit_id': '04 4117', 'terms': '14 mo.', 'curr_price': '$2,540', 'avail_date': 'Today'}, {'plan_name': 'PLAN 15', 'unit_type': 'Den / 1 Bed / 1 Bath', 'start_price': ' $2,540', 'sq_ft': '830 ', 'unit_id': '04 4117', 'terms': '14 mo.', 'curr_price': '$2,540', 'avail_date': 'Today'}, {'plan_name': 'PLAN 15', 'unit_type': 'Den / 1 Bed / 1 Bath', 'start_price': ' $2,540', 'sq_ft': '830 ', 'unit_id': '04 4117', 'terms': '14 mo.', 'curr_price': '$2,540', 'avail_date': 'Today'}, {'plan_name': 'PLAN 15', 'unit_type': 'Den / 1 Bed / 1 Bath', 'start_price': ' $2,540', 'sq_ft': '830 ', 'unit_id': '04 4117', 'terms': '14 mo.', 'curr_price': '$2,540', 'avail_date': 'Today'}, {'plan_name': 'PLAN 16', 'unit_type': 'Den / 1 Bed / 1 Bath', 'start_price': ' $2,900', 'sq_ft': '926 ', 'unit_id': '03 3312', 'terms': '13 mo.', 'curr_price': '$2,900', 'avail_date': '04/01/2021'}, {'plan_name': 'PLAN 18', 'unit_type': 'Den / 1 Bed / 1 Bath', 'start_price': ' $2,965', 'sq_ft': '1,055 ', 'unit_id': '03 3447', 'terms': '13 mo.', 'curr_price': '$3,015', 'avail_date': '03/04/2021'}, {'plan_name': 'PLAN 18', 'unit_type': 'Den / 1 Bed / 1 Bath', 'start_price': ' $2,965', 'sq_ft': '1,055 ', 'unit_id': '03 3447', 'terms': '13 mo.', 'curr_price': '$3,015', 'avail_date': '03/04/2021'}, {'plan_name': 'PLAN 18', 'unit_type': 'Den / 1 Bed / 1 Bath', 'start_price': ' $2,965', 'sq_ft': '1,055 ', 'unit_id': '03 3447', 'terms': '13 mo.', 'curr_price': '$3,015', 'avail_date': '03/04/2021'}, {'plan_name': 'PLAN 19', 'unit_type': '2 Bed / 2 Bath', 'start_price': ' $2,830', 'sq_ft': '1,133 ', 'unit_id': '04 4122', 'terms': '14 mo.', 'curr_price': '$2,830', 'avail_date': 'Today'}, {'plan_name': 'PLAN 19', 'unit_type': '2 Bed / 2 Bath', 'start_price': ' $2,830', 'sq_ft': '1,133 ', 'unit_id': '04 4122', 'terms': '14 mo.', 'curr_price': '$2,830', 'avail_date': 'Today'}, {'plan_name': 'PLAN 19', 'unit_type': '2 Bed / 2 Bath', 'start_price': ' $2,830', 'sq_ft': '1,133 ', 'unit_id': '04 4122', 'terms': '14 mo.', 'curr_price': '$2,830', 'avail_date': 'Today'}, {'plan_name': 'PLAN 19', 'unit_type': '2 Bed / 2 Bath', 'start_price': ' $2,830', 'sq_ft': '1,133 ', 'unit_id': '04 4122', 'terms': '14 mo.', 'curr_price': '$2,830', 'avail_date': 'Today'}, {'plan_name': 'PLAN 19', 'unit_type': '2 Bed / 2 Bath', 'start_price': ' $2,830', 'sq_ft': '1,133 ', 'unit_id': '04 4122', 'terms': '14 mo.', 'curr_price': '$2,830', 'avail_date': 'Today'}, {'plan_name': 'PLAN 20', 'unit_type': '2 Bed / 2 Bath', 'start_price': ' $3,050', 'sq_ft': '1,130 ', 'unit_id': '03 3414', 'terms': '14 mo.', 'curr_price': '$3,050', 'avail_date': 'Today'}, {'plan_name': 'PLAN 21', 'unit_type': '2 Bed / 2 Bath', 'start_price': ' $3,645', 'sq_ft': '1,335 ', 'unit_id': '03 3313', 'terms': '14 mo.', 'curr_price': '$3,665', 'avail_date': 'Today'}, {'plan_name': 'PLAN 21', 'unit_type': '2 Bed / 2 Bath', 'start_price': ' $3,645', 'sq_ft': '1,335 ', 'unit_id': '03 3313', 'terms': '14 mo.', 'curr_price': '$3,665', 'avail_date': 'Today'}, {'plan_name': 'PLAN 22', 'unit_type': '2 Bed / 2 Bath', 'start_price': ' $3,550', 'sq_ft': '1,306 ', 'unit_id': '04 4115', 'terms': '14 mo.', 'curr_price': '$3,555', 'avail_date': 'Today'}, {'plan_name': 'PLAN 22', 'unit_type': '2 Bed / 2 Bath', 'start_price': ' $3,550', 'sq_ft': '1,306 ', 'unit_id': '04 4115', 'terms': '14 mo.', 'curr_price': '$3,555', 'avail_date': 'Today'}, {'plan_name': 'PLAN 22', 'unit_type': '2 Bed / 2 Bath', 'start_price': ' $3,550', 'sq_ft': '1,306 ', 'unit_id': '04 4115', 'terms': '14 mo.', 'curr_price': '$3,555', 'avail_date': 'Today'}, {'plan_name': 'PLAN 22', 'unit_type': '2 Bed / 2 Bath', 'start_price': ' $3,550', 'sq_ft': '1,306 ', 'unit_id': '04 4115', 'terms': '14 mo.', 'curr_price': '$3,555', 'avail_date': 'Today'}, {'plan_name': 'PLAN 22', 'unit_type': '2 Bed / 2 Bath', 'start_price': ' $3,550', 'sq_ft': '1,306 ', 'unit_id': '04 4115', 'terms': '14 mo.', 'curr_price': '$3,555', 'avail_date': 'Today'}, {'plan_name': 'PLAN 24', 'unit_type': '2 Bed / 2 Bath', 'start_price': ' $2,830', 'sq_ft': '1,038 ', 'unit_id': '04 4246', 'terms': '14 mo.', 'curr_price': '$2,845', 'avail_date': 'Today'}, {'plan_name': 'PLAN 24', 'unit_type': '2 Bed / 2 Bath', 'start_price': ' $2,830', 'sq_ft': '1,038 ', 'unit_id': '04 4246', 'terms': '14 mo.', 'curr_price': '$2,845', 'avail_date': 'Today'}, {'plan_name': 'PLAN 24', 'unit_type': '2 Bed / 2 Bath', 'start_price': ' $2,830', 'sq_ft': '1,038 ', 'unit_id': '04 4246', 'terms': '14 mo.', 'curr_price': '$2,845', 'avail_date': 'Today'}, {'plan_name': 'PLAN 24', 'unit_type': '2 Bed / 2 Bath', 'start_price': ' $2,830', 'sq_ft': '1,038 ', 'unit_id': '04 4246', 'terms': '14 mo.', 'curr_price': '$2,845', 'avail_date': 'Today'}, {'plan_name': 'PLAN 24', 'unit_type': '2 Bed / 2 Bath', 'start_price': ' $2,830', 'sq_ft': '1,038 ', 'unit_id': '04 4246', 'terms': '14 mo.', 'curr_price': '$2,845', 'avail_date': 'Today'}, {'plan_name': 'PLAN 25', 'unit_type': '2 Bed / 2 Bath', 'start_price': ' $3,210', 'sq_ft': '1,130 ', 'unit_id': '04 4353', 'terms': '14 mo.', 'curr_price': '$3,245', 'avail_date': 'Today'}, {'plan_name': 'PLAN 25', 'unit_type': '2 Bed / 2 Bath', 'start_price': ' $3,210', 'sq_ft': '1,130 ', 'unit_id': '04 4353', 'terms': '14 mo.', 'curr_price': '$3,245', 'avail_date': 'Today'}, {'plan_name': 'PLAN 25', 'unit_type': '2 Bed / 2 Bath', 'start_price': ' $3,210', 'sq_ft': '1,130 ', 'unit_id': '04 4353', 'terms': '14 mo.', 'curr_price': '$3,245', 'avail_date': 'Today'}, {'plan_name': 'PLAN 25', 'unit_type': '2 Bed / 2 Bath', 'start_price': ' $3,210', 'sq_ft': '1,130 ', 'unit_id': '04 4353', 'terms': '14 mo.', 'curr_price': '$3,245', 'avail_date': 'Today'}, {'plan_name': 'PLAN 25', 'unit_type': '2 Bed / 2 Bath', 'start_price': ' $3,210', 'sq_ft': '1,130 ', 'unit_id': '04 4353', 'terms': '14 mo.', 'curr_price': '$3,245', 'avail_date': 'Today'}]\n"
     ]
    }
   ],
   "source": [
    "\n",
    "parse_soup = soup\n",
    "floor_plans = parse_soup.find_all('div', class_=\"fapt-fp-list-item\")\n",
    "db_list = []\n",
    "# Loop through returned results\n",
    "for plan in floor_plans:\n",
    "    \n",
    "    avail_dict = {}\n",
    "\n",
    "    # Error handling\n",
    "    try:\n",
    "        avail_dict[\"plan_name\"] = plan.find('div', class_=\"fapt-fp-list-item__column--plan-name\").text\n",
    "        avail_dict[\"unit_type\"] = plan.find('div', class_=\"fapt-fp-list-item__column--beds-baths\").text\n",
    "        avail_dict[\"start_price\"] = plan.find('div', class_=\"fapt-fp-list-item__column--price\").text\n",
    "        avail_dict[\"sq_ft\"] = plan.find('div', class_=\"fapt-fp-list-item__column--sqft\").text\n",
    "        \n",
    "\n",
    "        \n",
    "        units = plan.find_all(\"div\", class_=\"fapt-fp-unit__table-row\")\n",
    "        \n",
    "        for unit in units:\n",
    "            unit_name = unit.find(\"span\", class_=\"fapt-fp-unit__unit-name-text\")\n",
    "\n",
    "            if unit_name:\n",
    "                avail_dict[\"unit_id\"] = unit_name.text\n",
    "                avail_dict[\"terms\"] = unit.find(\"div\", class_=\"fapt-fp-unit__column-inner--term\").text\n",
    "                avail_dict[\"curr_price\"] = unit.find(\"div\", class_=\"fapt-fp-unit__column-inner--price\").text\n",
    "                avail_dict[\"avail_date\"] = unit.find(\"div\", class_=\"fapt-fp-unit__column-inner--available\").span.text\n",
    "              \n",
    "                db_list.append(avail_dict)\n",
    "            \n",
    "    \n",
    "\n",
    "    except AttributeError as e:\n",
    "        print(e)\n",
    "        \n",
    "print(db_list)"
   ]
  },
  {
   "cell_type": "code",
   "execution_count": null,
   "metadata": {},
   "outputs": [],
   "source": []
  }
 ],
 "metadata": {
  "kernelspec": {
   "display_name": "Python 3",
   "language": "python",
   "name": "python3"
  },
  "language_info": {
   "codemirror_mode": {
    "name": "ipython",
    "version": 3
   },
   "file_extension": ".py",
   "mimetype": "text/x-python",
   "name": "python",
   "nbconvert_exporter": "python",
   "pygments_lexer": "ipython3",
   "version": "3.6.10"
  }
 },
 "nbformat": 4,
 "nbformat_minor": 4
}

{
 "cells": [
  {
   "cell_type": "markdown",
   "metadata": {},
   "source": [
    "# ETL Project\n",
    "## Irvine Company Apartments\n"
   ]
  },
  {
   "cell_type": "code",
   "execution_count": 1,
   "metadata": {},
   "outputs": [],
   "source": [
    "# set environment\n",
    "from bs4 import BeautifulSoup\n",
    "import pandas as pd\n",
    "from splinter import Browser\n",
    "from webdriver_manager.chrome import ChromeDriverManager"
   ]
  },
  {
   "cell_type": "code",
   "execution_count": 2,
   "metadata": {},
   "outputs": [
    {
     "name": "stderr",
     "output_type": "stream",
     "text": [
      "[WDM] - ====== WebDriver manager ======\n",
      "[WDM] - Current google-chrome version is 88.0.4324\n",
      "[WDM] - Get LATEST driver version for 88.0.4324\n",
      "[WDM] - Driver [C:\\Users\\Tolga\\.wdm\\drivers\\chromedriver\\win32\\88.0.4324.96\\chromedriver.exe] found in cache\n"
     ]
    },
    {
     "name": "stdout",
     "output_type": "stream",
     "text": [
      "\n",
      "\n"
     ]
    }
   ],
   "source": [
    "# Setup splinter\n",
    "executable_path = {'executable_path': ChromeDriverManager().install()}\n",
    "browser = Browser('chrome', **executable_path, headless=False)"
   ]
  },
  {
   "cell_type": "markdown",
   "metadata": {},
   "source": [
    "## Build URL for scraping cost-of-living index\n",
    "- Near-future release: Use drop down for chosing region and date"
   ]
  },
  {
   "cell_type": "code",
   "execution_count": 3,
   "metadata": {},
   "outputs": [],
   "source": [
    "# Base url for cost of living index by city from regional rankings\n",
    "base_url = \"https://www.numbeo.com/cost-of-living/region_rankings.jsp\"\n",
    "\n",
    "# Choose region\n",
    "region_idx = 21   # 21 is the North America region\n",
    "# Date\n",
    "year = 2021       # Year of the acquisition\n",
    "mid_year = False  # Not sure what this means, but there's an option to choose"
   ]
  },
  {
   "cell_type": "code",
   "execution_count": 4,
   "metadata": {},
   "outputs": [],
   "source": [
    "# Date string\n",
    "date_str = \"%d\" % (year)\n",
    "if mid_year:\n",
    "    date_str += \"-mid\"\n",
    "\n",
    "# Region string\n",
    "region_str = \"%03d\" % (region_idx)\n",
    "\n",
    "# build URL for scraping \n",
    "cost_of_living_idx_url = base_url + f\"?title={date_str}&region={region_str}\""
   ]
  },
  {
   "cell_type": "code",
   "execution_count": 5,
   "metadata": {},
   "outputs": [],
   "source": [
    "browser.visit(cost_of_living_idx_url)\n",
    "html = browser.html\n",
    "# soup = BeautifulSoup(html, \"html.parser\")\n"
   ]
  },
  {
   "cell_type": "code",
   "execution_count": 13,
   "metadata": {},
   "outputs": [],
   "source": [
    "rankings_df = pd.read_html(html)[1]\n",
    "rankings_df.set_index(\"Rank\", inplace=True)\n",
    "rankings_df.to_csv(\"data/cost_of_living.csv\")"
   ]
  },
  {
   "cell_type": "markdown",
   "metadata": {},
   "source": [
    "### Choose cities\n",
    "- Somewhat near-future release: Choose the cities from the list by searching inside df"
   ]
  },
  {
   "cell_type": "code",
   "execution_count": 33,
   "metadata": {},
   "outputs": [],
   "source": [
    "cities = [\"Irvine, CA, United States\", \n",
    "          \"San Diego, CA, United States\", \n",
    "          \"Los Angeles, CA, United States\", \n",
    "          \"San Jose, CA, United States\"]"
   ]
  },
  {
   "cell_type": "code",
   "execution_count": 35,
   "metadata": {},
   "outputs": [
    {
     "data": {
      "text/html": [
       "<div>\n",
       "<style scoped>\n",
       "    .dataframe tbody tr th:only-of-type {\n",
       "        vertical-align: middle;\n",
       "    }\n",
       "\n",
       "    .dataframe tbody tr th {\n",
       "        vertical-align: top;\n",
       "    }\n",
       "\n",
       "    .dataframe thead th {\n",
       "        text-align: right;\n",
       "    }\n",
       "</style>\n",
       "<table border=\"1\" class=\"dataframe\">\n",
       "  <thead>\n",
       "    <tr style=\"text-align: right;\">\n",
       "      <th></th>\n",
       "      <th>Cost of Living Index</th>\n",
       "      <th>Rent Index</th>\n",
       "      <th>Cost of Living Plus Rent Index</th>\n",
       "      <th>Groceries Index</th>\n",
       "      <th>Restaurant Price Index</th>\n",
       "      <th>Local Purchasing Power Index</th>\n",
       "    </tr>\n",
       "    <tr>\n",
       "      <th>City</th>\n",
       "      <th></th>\n",
       "      <th></th>\n",
       "      <th></th>\n",
       "      <th></th>\n",
       "      <th></th>\n",
       "      <th></th>\n",
       "    </tr>\n",
       "  </thead>\n",
       "  <tbody>\n",
       "    <tr>\n",
       "      <th>Irvine, CA, United States</th>\n",
       "      <td>79.21</td>\n",
       "      <td>69.90</td>\n",
       "      <td>74.76</td>\n",
       "      <td>72.42</td>\n",
       "      <td>79.58</td>\n",
       "      <td>126.46</td>\n",
       "    </tr>\n",
       "    <tr>\n",
       "      <th>San Diego, CA, United States</th>\n",
       "      <td>80.22</td>\n",
       "      <td>67.85</td>\n",
       "      <td>74.31</td>\n",
       "      <td>80.28</td>\n",
       "      <td>78.70</td>\n",
       "      <td>112.72</td>\n",
       "    </tr>\n",
       "    <tr>\n",
       "      <th>Los Angeles, CA, United States</th>\n",
       "      <td>81.92</td>\n",
       "      <td>74.12</td>\n",
       "      <td>78.19</td>\n",
       "      <td>79.26</td>\n",
       "      <td>89.11</td>\n",
       "      <td>98.51</td>\n",
       "    </tr>\n",
       "    <tr>\n",
       "      <th>San Jose, CA, United States</th>\n",
       "      <td>78.55</td>\n",
       "      <td>82.92</td>\n",
       "      <td>80.64</td>\n",
       "      <td>74.99</td>\n",
       "      <td>78.75</td>\n",
       "      <td>131.28</td>\n",
       "    </tr>\n",
       "  </tbody>\n",
       "</table>\n",
       "</div>"
      ],
      "text/plain": [
       "                                Cost of Living Index  Rent Index  \\\n",
       "City                                                               \n",
       "Irvine, CA, United States                      79.21       69.90   \n",
       "San Diego, CA, United States                   80.22       67.85   \n",
       "Los Angeles, CA, United States                 81.92       74.12   \n",
       "San Jose, CA, United States                    78.55       82.92   \n",
       "\n",
       "                                Cost of Living Plus Rent Index  \\\n",
       "City                                                             \n",
       "Irvine, CA, United States                                74.76   \n",
       "San Diego, CA, United States                             74.31   \n",
       "Los Angeles, CA, United States                           78.19   \n",
       "San Jose, CA, United States                              80.64   \n",
       "\n",
       "                                Groceries Index  Restaurant Price Index  \\\n",
       "City                                                                      \n",
       "Irvine, CA, United States                 72.42                   79.58   \n",
       "San Diego, CA, United States              80.28                   78.70   \n",
       "Los Angeles, CA, United States            79.26                   89.11   \n",
       "San Jose, CA, United States               74.99                   78.75   \n",
       "\n",
       "                                Local Purchasing Power Index  \n",
       "City                                                          \n",
       "Irvine, CA, United States                             126.46  \n",
       "San Diego, CA, United States                          112.72  \n",
       "Los Angeles, CA, United States                         98.51  \n",
       "San Jose, CA, United States                           131.28  "
      ]
     },
     "execution_count": 35,
     "metadata": {},
     "output_type": "execute_result"
    }
   ],
   "source": [
    "rankings_df.set_index(\"City\").loc[cities]"
   ]
  }
 ],
 "metadata": {
  "kernelspec": {
   "display_name": "Python 3",
   "language": "python",
   "name": "python3"
  },
  "language_info": {
   "codemirror_mode": {
    "name": "ipython",
    "version": 3
   },
   "file_extension": ".py",
   "mimetype": "text/x-python",
   "name": "python",
   "nbconvert_exporter": "python",
   "pygments_lexer": "ipython3",
   "version": "3.8.5"
  }
 },
 "nbformat": 4,
 "nbformat_minor": 4
}
